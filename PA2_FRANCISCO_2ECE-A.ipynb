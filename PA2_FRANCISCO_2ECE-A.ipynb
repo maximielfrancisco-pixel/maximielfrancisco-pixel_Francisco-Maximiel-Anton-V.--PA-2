{
 "cells": [
  {
   "cell_type": "markdown",
   "id": "91ab47a5-0d9a-4745-a1c3-f462bdaecde2",
   "metadata": {},
   "source": [
    "# PA 2 - NUMERICAL PYTHON (NUMPY) \n",
    "------"
   ]
  },
  {
   "cell_type": "markdown",
   "id": "f8dffa14-945d-46a0-8f86-206212e2dffe",
   "metadata": {},
   "source": [
    "##### NO. 1 `NORMALIZATION PROBLEM`\n",
    "------"
   ]
  },
  {
   "cell_type": "code",
   "execution_count": 26,
   "id": "db411c5c-ed74-440f-b881-b64c7fe6ae57",
   "metadata": {},
   "outputs": [
    {
     "name": "stdout",
     "output_type": "stream",
     "text": [
      "   - Original X:\n",
      " [[0.73857049 0.48012076 0.21504506 0.49840818 0.00226394]\n",
      " [0.92624076 0.4474504  0.55052147 0.73811061 0.36217763]\n",
      " [0.34046548 0.72673354 0.57508048 0.51293892 0.95824959]\n",
      " [0.37774951 0.97697731 0.59072494 0.70245627 0.62869884]\n",
      " [0.25008725 0.02123679 0.16490579 0.11942653 0.43786462]]\n",
      "\n",
      "\n",
      "  - Normalized X:\n",
      " [[ 0.91219859 -0.05058659 -1.03805504  0.01753828 -1.83071404]\n",
      " [ 1.61131385 -0.17229127  0.21167239  0.91048542 -0.4899521 ]\n",
      " [-0.57083488  0.86810321  0.30316037  0.07166869  1.73055416]\n",
      " [-0.43194321  1.80031926  0.36143962  0.77766476  0.5029012 ]\n",
      " [-0.90751475 -1.76003576 -1.22483544 -1.39425623 -0.2080005 ]]\n"
     ]
    }
   ],
   "source": [
    "import numpy as np\n",
    "\n",
    "# GENERATES RANDOM 5 BY 5 NUMBERS\n",
    "X = np.random.random((5,5))\n",
    "\n",
    "# VISUALIZE EQUATION: Z = (X - mean) / σ)\n",
    "X_normalized = (X - X.mean()) / X.std()\n",
    "\n",
    "# SAVE NORMALIZED N-DIMENSIONAL ARRAY\n",
    "np.save(\"X_normalized.npy\", X_normalized)\n",
    "\n",
    "print(\"   - Original X:\\n\", X) \n",
    "print(\"\\n\\n  - Normalized X:\\n\", X_normalized)\n"
   ]
  },
  {
   "cell_type": "markdown",
   "id": "12095ef4-2afd-4964-a72d-c6dafee74127",
   "metadata": {},
   "source": [
    "------\n",
    "##### NO.2 `DIVISIBLE BY 3 PROBLEM`\n",
    "------"
   ]
  },
  {
   "cell_type": "code",
   "execution_count": 6,
   "id": "d4400cc8-f8f7-44d6-ad4f-6798961c0fd6",
   "metadata": {},
   "outputs": [
    {
     "name": "stdout",
     "output_type": "stream",
     "text": [
      " - Matrix A:\n",
      " [[    1     4     9    16    25    36    49    64    81   100]\n",
      " [  121   144   169   196   225   256   289   324   361   400]\n",
      " [  441   484   529   576   625   676   729   784   841   900]\n",
      " [  961  1024  1089  1156  1225  1296  1369  1444  1521  1600]\n",
      " [ 1681  1764  1849  1936  2025  2116  2209  2304  2401  2500]\n",
      " [ 2601  2704  2809  2916  3025  3136  3249  3364  3481  3600]\n",
      " [ 3721  3844  3969  4096  4225  4356  4489  4624  4761  4900]\n",
      " [ 5041  5184  5329  5476  5625  5776  5929  6084  6241  6400]\n",
      " [ 6561  6724  6889  7056  7225  7396  7569  7744  7921  8100]\n",
      " [ 8281  8464  8649  8836  9025  9216  9409  9604  9801 10000]]\n",
      "\n",
      " - Elements Divisible by 3:\n",
      " [   9   36   81  144  225  324  441  576  729  900 1089 1296 1521 1764\n",
      " 2025 2304 2601 2916 3249 3600 3969 4356 4761 5184 5625 6084 6561 7056\n",
      " 7569 8100 8649 9216 9801]\n"
     ]
    }
   ],
   "source": [
    "import numpy as np\n",
    "\n",
    "# CREATE 10 BY 10 N-DIMENSIONAL ARRAY \n",
    "A = np.arange(1, 101).reshape(10, 10) ** 2\n",
    "\n",
    "# FIND ALL DIVISIBLE BY 3 FROM THE ARRAY\n",
    "div_by_3 = A[A % 3 == 0]\n",
    "\n",
    "# SAVE DIVISSIBLE BY 3 N-DIMENSIONAL ARRAY\n",
    "np.save(\"div_by_3.npy\", div_by_3)\n",
    "\n",
    "print(\" - Matrix A:\\n\", A)\n",
    "print(\"\\n - Elements Divisible by 3:\\n\", div_by_3)\n"
   ]
  },
  {
   "cell_type": "code",
   "execution_count": null,
   "id": "1211fc01-b4ae-4eb2-bc07-4348a0193d61",
   "metadata": {},
   "outputs": [],
   "source": []
  }
 ],
 "metadata": {
  "kernelspec": {
   "display_name": "Python [conda env:base] *",
   "language": "python",
   "name": "conda-base-py"
  },
  "language_info": {
   "codemirror_mode": {
    "name": "ipython",
    "version": 3
   },
   "file_extension": ".py",
   "mimetype": "text/x-python",
   "name": "python",
   "nbconvert_exporter": "python",
   "pygments_lexer": "ipython3",
   "version": "3.13.5"
  }
 },
 "nbformat": 4,
 "nbformat_minor": 5
}
